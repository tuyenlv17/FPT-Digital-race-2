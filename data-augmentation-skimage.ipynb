{
 "cells": [
  {
   "cell_type": "code",
   "execution_count": 53,
   "metadata": {},
   "outputs": [],
   "source": [
    "from __future__ import division"
   ]
  },
  {
   "cell_type": "code",
   "execution_count": 54,
   "metadata": {},
   "outputs": [],
   "source": [
    "import numpy as np\n",
    "import numpy.random as random\n",
    "import matplotlib.pyplot as plt\n",
    "import cv2"
   ]
  },
  {
   "cell_type": "code",
   "execution_count": 55,
   "metadata": {},
   "outputs": [],
   "source": [
    "base_sign_path = './signs/'\n",
    "base_target_path = './signs/target'\n",
    "def add_path_prefix(c):\n",
    "    return \"0\" + str(c)"
   ]
  },
  {
   "cell_type": "code",
   "execution_count": 56,
   "metadata": {
    "scrolled": true
   },
   "outputs": [],
   "source": [
    "import os"
   ]
  },
  {
   "cell_type": "code",
   "execution_count": 57,
   "metadata": {},
   "outputs": [],
   "source": [
    "from skimage.transform import rotate\n",
    "from skimage.transform import warp\n",
    "from skimage.transform import ProjectiveTransform\n",
    "from skimage import img_as_ubyte\n",
    "import skimage.transform as ski_transform\n",
    "import skimage.color as ski_color\n",
    "from skimage import io\n",
    "random.seed(12345)\n",
    "\n",
    "def img_rotate(X, intensity):\n",
    "    delta = 30. * intensity # scale using augmentation intensity\n",
    "    X = rotate(X, random.uniform(-delta, delta), mode = 'edge')\n",
    "    return X  \n",
    "\n",
    "def apply_projection_transform(X, intensity):\n",
    "    image_size = X.shape[1]\n",
    "    d = image_size * 0.3 * intensity\n",
    "    tl_top = random.uniform(-d, d)     # Top left corner, top margin\n",
    "    tl_left = random.uniform(-d, d)    # Top left corner, left margin\n",
    "    bl_bottom = random.uniform(-d, d)  # Bottom left corner, bottom margin\n",
    "    bl_left = random.uniform(-d, d)    # Bottom left corner, left margin\n",
    "    tr_top = random.uniform(-d, d)     # Top right corner, top margin\n",
    "    tr_right = random.uniform(-d, d)   # Top right corner, right margin\n",
    "    br_bottom = random.uniform(-d, d)  # Bottom right corner, bottom margin\n",
    "    br_right = random.uniform(-d, d)   # Bottom right corner, right margin\n",
    "\n",
    "    transform = ProjectiveTransform()\n",
    "    transform.estimate(np.array((\n",
    "            (tl_left, tl_top),\n",
    "            (bl_left, image_size - bl_bottom),\n",
    "            (image_size - br_right, image_size - br_bottom),\n",
    "            (image_size - tr_right, tr_top)\n",
    "        )), np.array((\n",
    "            (0, 0),\n",
    "            (0, image_size),\n",
    "            (image_size, image_size),\n",
    "            (image_size, 0)\n",
    "        )))\n",
    "    X = warp(X, transform, output_shape=(image_size, image_size), order = 1, mode = 'edge')\n",
    "\n",
    "    return X\n",
    "from skimage import data, io\n",
    "from matplotlib import pyplot as plt\n",
    "\n",
    "\n",
    "# img = io.imread('./signs/00/sign-giving-order-stop-give-way.jpg')\n",
    "# img = ski_transform.resize(img, (32,32))\n",
    "# img = ski_color.rgb2grey(img)\n",
    "# img = apply_projection_transform(img, 0.8)\n",
    "\n",
    "# io.imsave('./signs/test.png', img)\n",
    "# io.imshow(img)\n",
    "# plt.show()"
   ]
  },
  {
   "cell_type": "code",
   "execution_count": 58,
   "metadata": {},
   "outputs": [],
   "source": [
    "# img=io.imread('./signs/target/00/65.png', as_grey=True)\n",
    "# print (img)\n",
    "# img = img_as_ubyte(img)\n",
    "# img = img_as_ubyte(img)\n",
    "# img = img_as_ubyte(img)\n",
    "# img = img_as_ubyte(img)\n",
    "# img = (img/255).astype(np.float32)\n",
    "# print (img)"
   ]
  },
  {
   "cell_type": "code",
   "execution_count": 59,
   "metadata": {},
   "outputs": [],
   "source": [
    "num_class = 10\n",
    "img_width = 32\n",
    "img_height = 32"
   ]
  },
  {
   "cell_type": "code",
   "execution_count": 60,
   "metadata": {},
   "outputs": [
    {
     "name": "stderr",
     "output_type": "stream",
     "text": [
      "/opt/python-virtualenv/ml-python3/lib/python3.5/site-packages/skimage/transform/_warps.py:84: UserWarning: The default mode, 'constant', will be changed to 'reflect' in skimage 0.15.\n",
      "  warn(\"The default mode, 'constant', will be changed to 'reflect' in \"\n",
      "/opt/python-virtualenv/ml-python3/lib/python3.5/site-packages/skimage/util/dtype.py:122: UserWarning: Possible precision loss when converting from float64 to uint8\n",
      "  .format(dtypeobj_in, dtypeobj_out))\n"
     ]
    }
   ],
   "source": [
    "def image_flip():\n",
    "    horizontal_flippable = np.array([5, 9])\n",
    "    verticle_flippable = np.array([5, 9])\n",
    "    both_flippable = np.array([5, 9])\n",
    "    cross_flippable = np.array([\n",
    "        [1, 2],\n",
    "        [3, 4],\n",
    "        [2, 1],\n",
    "        [4, 3]\n",
    "    ])\n",
    "    for cur_class in range(num_class):\n",
    "        class_base_path = base_target_path + \"/\" + add_path_prefix(cur_class) + \"/\"\n",
    "        os.mkdir(class_base_path)\n",
    "    for cur_class in range(num_class):\n",
    "        list_files=os.listdir(base_sign_path + \"/\" + add_path_prefix(cur_class))\n",
    "        class_base_path = base_target_path + \"/\" + add_path_prefix(cur_class) + \"/\"\n",
    "#         os.mkdir(class_base_path)\n",
    "        img_iter = 0\n",
    "        for index, cur_file in enumerate(list_files):\n",
    "            img = io.imread(base_sign_path + \"/\" + add_path_prefix(cur_class) + \"/\" + cur_file)            \n",
    "            img = ski_transform.resize(img, (32, 32))\n",
    "            oimg = ski_color.rgb2gray(img)\n",
    "            oimg = img_as_ubyte(oimg)\n",
    "            img_iter+=1\n",
    "            io.imsave(class_base_path + str(img_iter) + \".png\", oimg)\n",
    "#             k = cv2.waitKey(100000) & 0xFF\n",
    "#             if k == 27:\n",
    "#                 break\n",
    "            if cur_class in horizontal_flippable:\n",
    "#                 print \"hor \",num_class\n",
    "                img_iter+=1\n",
    "                io.imsave(class_base_path + str(img_iter) + \".png\", cv2.flip(oimg, 1))                    \n",
    "            if cur_class in verticle_flippable:\n",
    "#                 print \"ver \",num_class\n",
    "                img_iter+=1\n",
    "                io.imsave(class_base_path + str(img_iter) + \".png\", cv2.flip(oimg, 0))                    \n",
    "            if cur_class in both_flippable:\n",
    "#                 print \"both \", num_class\n",
    "                img_iter+=1\n",
    "                io.imsave(class_base_path + str(img_iter) + \".png\", cv2.flip(cv2.flip(oimg, 1), 0))                    \n",
    "            if cur_class in cross_flippable[:,0]:\n",
    "                img_iter+=1\n",
    "                cross_class=cross_flippable[cross_flippable[:,0]==cur_class][0][1]\n",
    "#                 print \"cross \", cur_class, cross_class\n",
    "                cross_path = base_target_path + \"/\" +add_path_prefix(cross_class) + \"/\"\n",
    "                io.imsave(cross_path + str(img_iter) + \".png\", cv2.flip(oimg, 1))\n",
    "                \n",
    "                \n",
    "def rotate_data():\n",
    "    for cur_class in range(num_class):\n",
    "        class_base_path=base_target_path + \"/\" + add_path_prefix(cur_class) + \"/\"\n",
    "        list_files=os.listdir(class_base_path)\n",
    "        img_iter = len(list_files) - 1\n",
    "        for cur_file in list_files:\n",
    "            img = io.imread(base_target_path + \"/\" + add_path_prefix(cur_class) + \"/\" + cur_file,as_grey=True)\n",
    "            for i in range(20):\n",
    "                new_img = img_rotate(img, 0.4)\n",
    "                img_iter+=1\n",
    "                new_img = img_as_ubyte(new_img)\n",
    "                io.imsave(class_base_path + str(img_iter) + \".png\", new_img)\n",
    "                \n",
    "def project_data():\n",
    "    for cur_class in range(num_class):\n",
    "        class_base_path=base_target_path + \"/\" + add_path_prefix(cur_class) + \"/\"\n",
    "        list_files=os.listdir(class_base_path)\n",
    "        img_iter = len(list_files) - 1\n",
    "        for cur_file in list_files:\n",
    "            img = io.imread(base_target_path + \"/\" + add_path_prefix(cur_class) + \"/\" + cur_file, as_grey=True)\n",
    "            for i in range(1):              \n",
    "                new_img = apply_projection_transform(img, 0.6) \n",
    "                img_iter+=1\n",
    "                new_img = img_as_ubyte(new_img)\n",
    "                io.imsave(class_base_path + str(img_iter) + \".png\", new_img)\n",
    "                \n",
    "!rm -rf ./signs/target/\n",
    "!mkdir ./signs/target\n",
    "image_flip()\n",
    "rotate_data()\n",
    "project_data()\n",
    "# cv2.destroyAllWindows()"
   ]
  }
 ],
 "metadata": {
  "kernelspec": {
   "display_name": "Python 3",
   "language": "python",
   "name": "python3"
  },
  "language_info": {
   "codemirror_mode": {
    "name": "ipython",
    "version": 3
   },
   "file_extension": ".py",
   "mimetype": "text/x-python",
   "name": "python",
   "nbconvert_exporter": "python",
   "pygments_lexer": "ipython3",
   "version": "3.5.2"
  }
 },
 "nbformat": 4,
 "nbformat_minor": 2
}
